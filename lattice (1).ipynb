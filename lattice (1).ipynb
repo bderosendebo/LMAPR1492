{
 "cells": [
  {
   "cell_type": "code",
   "execution_count": 1,
   "id": "inappropriate-emerald",
   "metadata": {},
   "outputs": [],
   "source": [
    "from pymatgen import Lattice, Structure\n",
    "from pymatgen.symmetry.analyzer import SpacegroupAnalyzer\n",
    "from pymatgen.core.composition import Composition\n",
    "from jupyter_jsmol.pymatgen import quick_view"
   ]
  },
  {
   "cell_type": "code",
   "execution_count": 2,
   "id": "declared-attitude",
   "metadata": {},
   "outputs": [],
   "source": [
    "structure = Structure.from_file(\"TiTeOs_mp-961646_symmetrized.cif\")"
   ]
  },
  {
   "cell_type": "code",
   "execution_count": 3,
   "id": "referenced-psychiatry",
   "metadata": {},
   "outputs": [
    {
     "data": {
      "application/vnd.jupyter.widget-view+json": {
       "model_id": "0c1f8e99fcb74527a2474c84efeb8b6d",
       "version_major": 2,
       "version_minor": 0
      },
      "text/plain": [
       "JsmolView(layout=Layout(align_self='stretch', height='400px'))"
      ]
     },
     "metadata": {},
     "output_type": "display_data"
    }
   ],
   "source": [
    "view = quick_view(structure)\n",
    "display(view)"
   ]
  },
  {
   "cell_type": "markdown",
   "id": "authorized-wisconsin",
   "metadata": {},
   "source": [
    "# Réseau direct"
   ]
  },
  {
   "cell_type": "markdown",
   "id": "handed-james",
   "metadata": {},
   "source": [
    "Voici les vecteurs de base du réseau:"
   ]
  },
  {
   "cell_type": "code",
   "execution_count": 4,
   "id": "passing-opera",
   "metadata": {},
   "outputs": [
    {
     "name": "stdout",
     "output_type": "stream",
     "text": [
      "6.170140 0.000000 0.000000\n",
      "0.000000 6.170140 0.000000\n",
      "0.000000 0.000000 6.170140\n"
     ]
    }
   ],
   "source": [
    "print(structure.lattice)"
   ]
  },
  {
   "cell_type": "raw",
   "id": "preceding-anime",
   "metadata": {},
   "source": [
    "Sur base de la racine carrée des carrés de chacune des données précédentes on peut trouver la norme de chacun des vecteurs(basé sur la formule de la norme):"
   ]
  },
  {
   "cell_type": "code",
   "execution_count": 5,
   "id": "intelligent-chocolate",
   "metadata": {
    "scrolled": true
   },
   "outputs": [
    {
     "name": "stdout",
     "output_type": "stream",
     "text": [
      "a = 6.17014 ; b = 6.17014 ; c = 6.17014\n"
     ]
    }
   ],
   "source": [
    "print(\"a = {} ; b = {} ; c = {}\".format(structure.lattice.a,structure.lattice.b,structure.lattice.c))"
   ]
  },
  {
   "cell_type": "markdown",
   "id": "secret-place",
   "metadata": {},
   "source": [
    "En utilisant la bonne commande nous pouvons également trouver les angles entre ces différents vecteurs:"
   ]
  },
  {
   "cell_type": "code",
   "execution_count": 6,
   "id": "distributed-infrared",
   "metadata": {},
   "outputs": [
    {
     "name": "stdout",
     "output_type": "stream",
     "text": [
      "alpha = 90.0 ; beta = 90.0 ; gamma = 90.0\n"
     ]
    }
   ],
   "source": [
    "print(\"alpha = {} ; beta = {} ; gamma = {}\".format(structure.lattice.angles[0],structure.lattice.angles[1],round(structure.lattice.angles[2],1)))"
   ]
  },
  {
   "cell_type": "markdown",
   "id": "fourth-williams",
   "metadata": {},
   "source": [
    "# Réseau réciproque"
   ]
  },
  {
   "cell_type": "markdown",
   "id": "brilliant-clothing",
   "metadata": {},
   "source": [
    "Voici les vecteurs de base du réseau:"
   ]
  },
  {
   "cell_type": "code",
   "execution_count": 7,
   "id": "middle-cricket",
   "metadata": {},
   "outputs": [
    {
     "name": "stdout",
     "output_type": "stream",
     "text": [
      "1.018321 -0.000000 0.000000\n",
      "0.000000 1.018321 0.000000\n",
      "-0.000000 -0.000000 1.018321\n"
     ]
    }
   ],
   "source": [
    "print(structure.lattice.reciprocal_lattice)"
   ]
  },
  {
   "cell_type": "markdown",
   "id": "thermal-windows",
   "metadata": {},
   "source": [
    "Sur base du carré de chacune des données précédentes on peut trouver la norme de chacun des vecteurs(basé sur la formule de la norme):"
   ]
  },
  {
   "cell_type": "code",
   "execution_count": 8,
   "id": "central-permission",
   "metadata": {},
   "outputs": [
    {
     "name": "stdout",
     "output_type": "stream",
     "text": [
      "a = 1.0183213520567744 ; b = 1.0183213520567744 ; c = 1.0183213520567744\n"
     ]
    }
   ],
   "source": [
    "print(\"a = {} ; b = {} ; c = {}\".format(structure.lattice.reciprocal_lattice.a,structure.lattice.reciprocal_lattice.b,structure.lattice.reciprocal_lattice.c))"
   ]
  },
  {
   "cell_type": "markdown",
   "id": "dietary-applicant",
   "metadata": {},
   "source": [
    "En utilisant la bonne commande nous pouvons également trouver les angles entre ces différents vecteurs:"
   ]
  },
  {
   "cell_type": "code",
   "execution_count": 9,
   "id": "broad-emission",
   "metadata": {},
   "outputs": [
    {
     "name": "stdout",
     "output_type": "stream",
     "text": [
      "alpha = 90.0 ; beta = 90.0 ; gamma = 90.0\n"
     ]
    }
   ],
   "source": [
    "print(\"alpha = {} ; beta = {} ; gamma = {}\".format(round(structure.lattice.reciprocal_lattice.angles[0],1),round(structure.lattice.reciprocal_lattice.angles[1],1),round(structure.lattice.reciprocal_lattice.angles[2],1)))"
   ]
  },
  {
   "cell_type": "markdown",
   "id": "later-implement",
   "metadata": {},
   "source": [
    "# Type de maille"
   ]
  },
  {
   "cell_type": "markdown",
   "id": "controlled-beatles",
   "metadata": {},
   "source": [
    "En utilisant la bonne commande je trouve que le type de maille est:"
   ]
  },
  {
   "cell_type": "code",
   "execution_count": 10,
   "id": "polish-pottery",
   "metadata": {},
   "outputs": [
    {
     "name": "stdout",
     "output_type": "stream",
     "text": [
      "cubic\n"
     ]
    }
   ],
   "source": [
    "print(SpacegroupAnalyzer(structure).get_lattice_type()[:])"
   ]
  },
  {
   "cell_type": "markdown",
   "id": "solar-presentation",
   "metadata": {},
   "source": [
    "# Système cristallin"
   ]
  },
  {
   "cell_type": "markdown",
   "id": "rocky-drive",
   "metadata": {},
   "source": [
    "A nouveau la bonne commande nous permet de déterminer que le systéme cristallin est:"
   ]
  },
  {
   "cell_type": "code",
   "execution_count": 11,
   "id": "joint-domain",
   "metadata": {},
   "outputs": [
    {
     "name": "stdout",
     "output_type": "stream",
     "text": [
      "cubic\n"
     ]
    }
   ],
   "source": [
    "print(SpacegroupAnalyzer(structure).get_crystal_system()[:])"
   ]
  },
  {
   "cell_type": "markdown",
   "id": "judicial-harvest",
   "metadata": {},
   "source": [
    "# Groupe ponctuel"
   ]
  },
  {
   "cell_type": "markdown",
   "id": "substantial-greene",
   "metadata": {},
   "source": [
    "Enfin le groupe ponctuel est:"
   ]
  },
  {
   "cell_type": "code",
   "execution_count": 12,
   "id": "promising-resolution",
   "metadata": {},
   "outputs": [
    {
     "name": "stdout",
     "output_type": "stream",
     "text": [
      "-43m\n"
     ]
    }
   ],
   "source": [
    "print(SpacegroupAnalyzer(structure).get_point_group_symbol())"
   ]
  },
  {
   "cell_type": "code",
   "execution_count": null,
   "id": "confident-given",
   "metadata": {},
   "outputs": [],
   "source": []
  },
  {
   "cell_type": "code",
   "execution_count": null,
   "id": "b80bd477",
   "metadata": {},
   "outputs": [],
   "source": []
  },
  {
   "cell_type": "code",
   "execution_count": null,
   "id": "474a2444",
   "metadata": {},
   "outputs": [],
   "source": []
  }
 ],
 "metadata": {
  "kernelspec": {
   "display_name": "Python 3",
   "language": "python",
   "name": "python3"
  },
  "language_info": {
   "codemirror_mode": {
    "name": "ipython",
    "version": 3
   },
   "file_extension": ".py",
   "mimetype": "text/x-python",
   "name": "python",
   "nbconvert_exporter": "python",
   "pygments_lexer": "ipython3",
   "version": "3.6.8"
  }
 },
 "nbformat": 4,
 "nbformat_minor": 5
}
