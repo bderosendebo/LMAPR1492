{
 "cells": [
  {
   "cell_type": "code",
   "execution_count": 3,
   "id": "waiting-dallas",
   "metadata": {},
   "outputs": [],
   "source": [
    "from pymatgen import Lattice, Structure\n",
    "from pymatgen.symmetry.analyzer import SpacegroupAnalyzer\n",
    "from pymatgen.core.composition import Composition\n",
    "from jupyter_jsmol.pymatgen import quick_view\n",
    "from pymatgen.ext.matproj import MPRester \n",
    "from pymatgen.core.operations import SymmOp\n",
    "\n",
    "with MPRester(\"f8gAbZFioEswIMUD\") as m:\n",
    "\n",
    "    structure = m.get_structure_by_material_id(\"mp-961646\")\n"
   ]
  },
  {
   "cell_type": "code",
   "execution_count": 4,
   "id": "complex-switzerland",
   "metadata": {
    "scrolled": true
   },
   "outputs": [
    {
     "data": {
      "application/vnd.jupyter.widget-view+json": {
       "model_id": "c2e63838d03e437f8c4e16994d0b4e90",
       "version_major": 2,
       "version_minor": 0
      },
      "text/plain": [
       "JsmolView(layout=Layout(align_self='stretch', height='400px'))"
      ]
     },
     "metadata": {},
     "output_type": "display_data"
    }
   ],
   "source": [
    "view = quick_view(structure)\n",
    "display(view)"
   ]
  },
  {
   "cell_type": "markdown",
   "id": "1a700447",
   "metadata": {},
   "source": [
    "Sur matérial project il est possible de trouver toutes les opérations de symétrie possibles. Sur base des ces informations nous avon"
   ]
  },
  {
   "cell_type": "markdown",
   "id": "pretty-lender",
   "metadata": {},
   "source": [
    "## Première symétrie"
   ]
  },
  {
   "cell_type": "code",
   "execution_count": 29,
   "id": "periodic-welsh",
   "metadata": {},
   "outputs": [
    {
     "name": "stdout",
     "output_type": "stream",
     "text": [
      "atome de départ :  [0.5, 0.5, 0.5]\n",
      "atome d'arrivée :  [ 1.   0.5 -0.5]\n",
      "opération de symétrie : \n",
      " [ 1.   0.5 -0.5] = [0.5 0.  0. ] + \n",
      " [[ 1.  0.  0.]\n",
      " [ 0.  1.  0.]\n",
      " [-1.  0.  0.]] . [0.5, 0.5, 0.5]\n"
     ]
    }
   ],
   "source": [
    "Sym1=SymmOp.from_xyz_string('x+0.5,y,-x')\n",
    "Ti0=[0.5,0.5,0.5]\n",
    "Ti0s = Sym1.operate(Ti0)\n",
    "\n",
    "print(\"atome de départ : \", Ti0)\n",
    "print(\"atome d'arrivée : \", Ti0s)\n",
    "print('opération de symétrie : \\n', Ti0s, '=', \n",
    "      Sym1.translation_vector, \"+ \\n\", Sym1.rotation_matrix, \".\", Ti0)"
   ]
  },
  {
   "cell_type": "markdown",
   "id": "domestic-strap",
   "metadata": {},
   "source": [
    "## Seconde symétrie"
   ]
  },
  {
   "cell_type": "code",
   "execution_count": 30,
   "id": "exciting-newsletter",
   "metadata": {},
   "outputs": [
    {
     "name": "stdout",
     "output_type": "stream",
     "text": [
      "atome de départ :  [0.75, 0.75, 0.75]\n",
      "atome d'arrivée :  [ 0.75 -0.75  0.75]\n",
      "opération de symétrie : \n",
      " [ 0.75 -0.75  0.75] = [0. 0. 0.] + \n",
      " [[ 1.  0.  0.]\n",
      " [-1.  0.  0.]\n",
      " [ 0.  0.  1.]] . [0.75, 0.75, 0.75]\n"
     ]
    }
   ],
   "source": [
    "Sym2=SymmOp.from_xyz_string('x,-x,z')\n",
    "Os2=[0.75,0.75,0.75]\n",
    "Os2s=Sym2.operate(Os2)\n",
    "print(\"atome de départ : \", Os2)\n",
    "print(\"atome d'arrivée : \", Os2s)\n",
    "print('opération de symétrie : \\n', Os2s, '=', \n",
    "      Sym2.translation_vector, \"+ \\n\", Sym2.rotation_matrix, \".\", Os2)\n"
   ]
  },
  {
   "cell_type": "markdown",
   "id": "identical-tourism",
   "metadata": {},
   "source": [
    "## Troisième symétrie"
   ]
  },
  {
   "cell_type": "code",
   "execution_count": 33,
   "id": "advanced-interstate",
   "metadata": {},
   "outputs": [
    {
     "name": "stdout",
     "output_type": "stream",
     "text": [
      "atome de départ :  [0, 0, 0]\n",
      "atome d'arrivée :  [0.  0.5 0.5]\n",
      "opération de symétrie : \n",
      " [0.  0.5 0.5] = [0.  0.5 0.5] + \n",
      " [[ 0.  0. -1.]\n",
      " [-1.  0.  0.]\n",
      " [ 0.  1.  0.]] . [0, 0, 0]\n"
     ]
    }
   ],
   "source": [
    "Sym3=SymmOp.from_xyz_string('-z,0.5-x,y+0.5')\n",
    "Te1=[0,0,0]\n",
    "Te1s=Sym3.operate(Te1)\n",
    "print(\"atome de départ : \", Te1)\n",
    "print(\"atome d'arrivée : \", Te1s)\n",
    "print('opération de symétrie : \\n', Te1s, '=', \n",
    "      Sym3.translation_vector, \"+ \\n\", Sym3.rotation_matrix, \".\", Te1)"
   ]
  },
  {
   "cell_type": "code",
   "execution_count": null,
   "id": "nonprofit-reservation",
   "metadata": {},
   "outputs": [],
   "source": []
  }
 ],
 "metadata": {
  "kernelspec": {
   "display_name": "Python 3",
   "language": "python",
   "name": "python3"
  },
  "language_info": {
   "codemirror_mode": {
    "name": "ipython",
    "version": 3
   },
   "file_extension": ".py",
   "mimetype": "text/x-python",
   "name": "python",
   "nbconvert_exporter": "python",
   "pygments_lexer": "ipython3",
   "version": "3.6.8"
  }
 },
 "nbformat": 4,
 "nbformat_minor": 5
}
