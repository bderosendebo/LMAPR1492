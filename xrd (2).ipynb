{
 "cells": [
  {
   "cell_type": "code",
   "execution_count": 1,
   "id": "demonstrated-pledge",
   "metadata": {},
   "outputs": [],
   "source": [
    "from pymatgen.ext.matproj import MPRester\n",
    "from pymatgen.io.cif import CifWriter\n",
    "from pymatgen.analysis.diffraction.xrd import XRDCalculator\n",
    "from pymatgen.analysis.diffraction.core import *\n",
    "\n",
    "with MPRester(\"f8gAbZFioEswIMUD\") as m:\n",
    "\n",
    "    structure = m.get_structure_by_material_id(\"mp-961646\")"
   ]
  },
  {
   "cell_type": "markdown",
   "id": "guided-lightweight",
   "metadata": {},
   "source": [
    "Pour déterminer les 3 premiers pics du diffractogramme il suffit d'utiliser les bonnes commandes de l'outil XRDCalculator:"
   ]
  },
  {
   "cell_type": "code",
   "execution_count": 2,
   "id": "medieval-treasurer",
   "metadata": {},
   "outputs": [
    {
     "name": "stdout",
     "output_type": "stream",
     "text": [
      "[[{'hkl': (1, 1, 1), 'multiplicity': 2}, {'hkl': (1, 0, 0), 'multiplicity': 6}], [{'hkl': (1, 1, 0), 'multiplicity': 6}], [{'hkl': (2, 1, 1), 'multiplicity': 6}, {'hkl': (1, 0, -1), 'multiplicity': 6}]]\n",
      "Pic 1: 2θ = 24.975956, Intensité = 79.558480, hkl = (1 1 1 ), d_hkl = 3.562332 \n",
      "\n",
      "Pic 2: 2θ = 28.917911, Intensité = 0.174851, hkl = (1 1 0 ), d_hkl = 3.085070 \n",
      "\n",
      "Pic 3: 2θ = 41.355296, Intensité = 100.000000, hkl = (2 1 1 ), d_hkl = 2.181474 \n",
      "\n"
     ]
    }
   ],
   "source": [
    "XRD=XRDCalculator(1.5406)#creation de l'objet XRD\n",
    "Diff = XRD.get_pattern(structure)#récupération des données de diffraction\n",
    "\n",
    "X=Diff.x[:3]\n",
    "Y=Diff.y[:3]\n",
    "hkls=Diff.hkls[:3]\n",
    "dhkls=Diff.d_hkls[:3]\n",
    "\n",
    "print(hkls)\n",
    "\n",
    "\n",
    "for i in range(3):\n",
    "    print(\"Pic %d: 2\\u03B8 = %f, Intensité = %f, hkl = (%d %d %d ), d_hkl = %f \\n\" % (i+1, X[i], Y[i], hkls[i][0]['hkl'][0], hkls[i][0]['hkl'][1], hkls[i][0]['hkl'][2], dhkls[i]))"
   ]
  },
  {
   "cell_type": "code",
   "execution_count": null,
   "id": "06e47469",
   "metadata": {},
   "outputs": [],
   "source": []
  }
 ],
 "metadata": {
  "kernelspec": {
   "display_name": "Python 3",
   "language": "python",
   "name": "python3"
  },
  "language_info": {
   "codemirror_mode": {
    "name": "ipython",
    "version": 3
   },
   "file_extension": ".py",
   "mimetype": "text/x-python",
   "name": "python",
   "nbconvert_exporter": "python",
   "pygments_lexer": "ipython3",
   "version": "3.6.8"
  }
 },
 "nbformat": 4,
 "nbformat_minor": 5
}
